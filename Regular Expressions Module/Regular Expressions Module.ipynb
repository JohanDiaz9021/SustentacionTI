{
  "nbformat": 4,
  "nbformat_minor": 0,
  "metadata": {
    "colab": {
      "provenance": []
    },
    "kernelspec": {
      "name": "python3",
      "display_name": "Python 3"
    },
    "language_info": {
      "name": "python"
    }
  },
  "cells": [
    {
      "cell_type": "markdown",
      "source": [
        "*1. Modulo de Expresiones regulares:*"
      ],
      "metadata": {
        "id": "SIbvvuPA53KK"
      }
    },
    {
      "cell_type": "code",
      "execution_count": 6,
      "metadata": {
        "id": "BmRKyYxu5w0r"
      },
      "outputs": [],
      "source": [
        "import re\n",
        "\n",
        "name_regularPhrase = r'[A-Za-z]+\\s[A-Za-z]+'\n",
        "date_regularPhrase = r'\\d{2}/\\d{2}/\\d{4}'\n",
        "direction_regularPhrase = r'\\d+\\s[A-Za-z]+\\s[A-Za-z]+'\n",
        "phone_regularPhrase = r'\\d{3}-\\d{3}-\\d{4}'\n",
        "email_regularPhrase = r'\\b[A-Za-z0-9._%+-]+@[A-Za-z0-9.-]+\\.[A-Z|a-z]{2,}\\b'\n",
        "identification_regularPhrase = r'[A-Z0-9]{8}'\n",
        "company_regularPhrase = r'\\b[A-Za-z\\s]+\\b'\n",
        "product_regularPhrase = r'\\b[A-Za-z\\s]+\\b'\n"
      ]
    }
  ]
}