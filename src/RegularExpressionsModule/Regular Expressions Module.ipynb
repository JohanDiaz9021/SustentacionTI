{
  "cells": [
    {
      "cell_type": "markdown",
      "metadata": {
        "id": "SIbvvuPA53KK"
      },
      "source": [
        "*1. Modulo de Expresiones regulares:*"
      ]
    },
    {
      "cell_type": "code",
      "execution_count": 6,
      "metadata": {
        "id": "BmRKyYxu5w0r"
      },
      "outputs": [],
      "source": [
        "import re\n",
        "\n",
        "name_regularPhrase = r'[A-Za-z]+\\s[A-Za-z]+'\n",
        "date_regularPhrase = r'\\d{2}/\\d{2}/\\d{4}'\n",
        "direction_regularPhrase = r'\\d+\\s[A-Za-z]+\\s[A-Za-z]+'\n",
        "phone_regularPhrase = r'\\d{3}-\\d{3}-\\d{4}'\n",
        "email_regularPhrase = r'\\b[A-Za-z0-9._%+-]+@[A-Za-z0-9.-]+\\.[A-Z|a-z]{2,}\\b'\n",
        "identification_regularPhrase = r'[A-Z0-9]{8}'\n",
        "\n"
      ]
    }
  ],
  "metadata": {
    "colab": {
      "provenance": []
    },
    "kernelspec": {
      "display_name": "Python 3",
      "name": "python3"
    },
    "language_info": {
      "name": "python"
    }
  },
  "nbformat": 4,
  "nbformat_minor": 0
}
