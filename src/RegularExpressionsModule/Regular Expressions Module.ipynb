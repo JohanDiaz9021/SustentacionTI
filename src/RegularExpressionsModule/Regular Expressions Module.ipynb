{
  "cells": [
    {
      "cell_type": "markdown",
      "metadata": {
        "id": "SIbvvuPA53KK"
      },
      "source": [
        "*1. Modulo de Expresiones regulares:*"
      ]
    },
    {
      "cell_type": "code",
      "execution_count": 6,
      "metadata": {
        "id": "BmRKyYxu5w0r"
      },
      "outputs": [],
      "source": [
        "import re\n",
        "\n",
        "name_regularPhrase = r'[A-Za-z]+\\s[A-Za-z]+'\n",
        "phone_regularPhrase = r'\\d{3}-\\d{3}-\\d{4}'\n",
        "identification_regularPhrase = r'[A-Z0-9]{8}'\n",
        "\n"
      ]
    }
  ],
  "metadata": {
    "colab": {
      "provenance": []
    },
    "kernelspec": {
      "display_name": "Python 3",
      "name": "python3"
    },
    "language_info": {
      "name": "python"
    }
  },
  "nbformat": 4,
  "nbformat_minor": 0
}
