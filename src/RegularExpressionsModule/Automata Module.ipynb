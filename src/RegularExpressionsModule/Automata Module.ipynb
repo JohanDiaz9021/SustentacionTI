{
  "cells": [
    {
      "cell_type": "markdown",
      "metadata": {
        "id": "SIbvvuPA53KK"
      },
      "source": [
        "*1. Regular Expressions Module:*"
      ]
    },
    {
      "cell_type": "code",
      "execution_count": null,
      "metadata": {
        "id": "BmRKyYxu5w0r"
      },
      "outputs": [],
      "source": [
        "import re\n",
        "\n",
        "name_regularPhrase = r'[A-Za-z]+\\s[A-Za-z]+'\n",
        "date_regularPhrase = r'\\d{2}/\\d{2}/\\d{4}'\n",
        "direction_regularPhrase = r'\\d+\\s[A-Za-z]+\\s[A-Za-z]+'\n",
        "phone_regularPhrase = r'\\d{3}-\\d{3}-\\d{4}'\n",
        "email_regularPhrase = r'\\b[A-Za-z0-9._%+-]+@[A-Za-z0-9.-]+\\.[A-Z|a-z]{2,}\\b'\n",
        "identification_regularPhrase = r'[A-Z0-9]{8}'\n",
        "\n"
      ]
    },
    {
      "cell_type": "markdown",
      "metadata": {
        "id": "IpKSj9hRBcDF"
      },
      "source": [
        "*2. Automata Module:*\n",
        "\n"
      ]
    },
    {
      "cell_type": "code",
      "execution_count": 2,
      "metadata": {
        "colab": {
          "base_uri": "https://localhost:8080/"
        },
        "id": "yzarkMbGDa41",
        "outputId": "0058c441-a96a-48ec-b78f-3f45ecf5fb0e"
      },
      "outputs": [
        {
          "name": "stdout",
          "output_type": "stream",
          "text": [
            "Collecting pyformlang\n",
            "  Downloading pyformlang-1.0.9-py3-none-any.whl (126 kB)\n",
            "\u001b[?25l     \u001b[90m━━━━━━━━━━━━━━━━━━━━━━━━━━━━━━━━━━━━━━━━\u001b[0m \u001b[32m0.0/126.5 kB\u001b[0m \u001b[31m?\u001b[0m eta \u001b[36m-:--:--\u001b[0m\r\u001b[2K     \u001b[91m━━━━━━━━━━━━━━━━━━━━━━━━━━━━━━━━━━━━━━\u001b[0m\u001b[91m╸\u001b[0m\u001b[90m━\u001b[0m \u001b[32m122.9/126.5 kB\u001b[0m \u001b[31m4.0 MB/s\u001b[0m eta \u001b[36m0:00:01\u001b[0m\r\u001b[2K     \u001b[90m━━━━━━━━━━━━━━━━━━━━━━━━━━━━━━━━━━━━━━━━\u001b[0m \u001b[32m126.5/126.5 kB\u001b[0m \u001b[31m3.2 MB/s\u001b[0m eta \u001b[36m0:00:00\u001b[0m\n",
            "\u001b[?25hRequirement already satisfied: networkx in /usr/local/lib/python3.10/dist-packages (from pyformlang) (3.2.1)\n",
            "Requirement already satisfied: numpy in /usr/local/lib/python3.10/dist-packages (from pyformlang) (1.25.2)\n",
            "Requirement already satisfied: pydot in /usr/local/lib/python3.10/dist-packages (from pyformlang) (1.4.2)\n",
            "Requirement already satisfied: pyparsing>=2.1.4 in /usr/local/lib/python3.10/dist-packages (from pydot->pyformlang) (3.1.2)\n",
            "Installing collected packages: pyformlang\n",
            "Successfully installed pyformlang-1.0.9\n"
          ]
        }
      ],
      "source": [
        "!pip install pyformlang"
      ]
    },
    {
      "cell_type": "code",
      "execution_count": 3,
      "metadata": {
        "id": "dLvMgbQVBbmu"
      },
      "outputs": [],
      "source": [
        "from pyformlang.finite_automaton import DeterministicFiniteAutomaton\n",
        "from pyformlang.regular_expression import Regex\n",
        "\n",
        "def create_nombre_dfa():\n",
        "    nombre_dfa = DeterministicFiniteAutomaton()\n",
        "    nombre_dfa.add_start_state(\"q0\")\n",
        "    nombre_dfa.add_final_state(\"q1\")\n",
        "    nombre_dfa.add_transition(\"q0\", \" \", \"q1\")\n",
        "    nombre_dfa.add_transition(\"q1\", \" \", \"q1\")\n",
        "    nombre_dfa.add_transition(\"q1\", \"a\", \"q1\")\n",
        "    nombre_dfa.add_transition(\"q1\", \"b\", \"q1\")\n",
        "    return nombre_dfa\n",
        "\n",
        "def create_fecha_nfa():\n",
        "    fecha_regex_str = \"(0[1-9]|[12][0-9]|3[01])/(0[1-9]|1[0-2])/[0-9]{4}\"\n",
        "    fecha_regex = Regex(fecha_regex_str)\n",
        "    fecha_nfa = fecha_regex.to_epsilon_nfa().minimize()\n",
        "    return fecha_nfa\n",
        "\n",
        "def create_direccion_dfa():\n",
        "    direccion_dfa = DeterministicFiniteAutomaton()\n",
        "    direccion_dfa.add_start_state(\"q0\")\n",
        "    direccion_dfa.add_final_state(\"q1\")\n",
        "    direccion_dfa.add_transition(\"q0\", \" \", \"q1\")\n",
        "    direccion_dfa.add_transition(\"q1\", \" \", \"q1\")\n",
        "    direccion_dfa.add_transition(\"q1\", \"123\", \"q1\")  \n",
        "    return direccion_dfa\n",
        "\n",
        "def create_telefono_dfa():\n",
        "    telefono_dfa = DeterministicFiniteAutomaton()\n",
        "    telefono_dfa.add_start_state(\"q0\")\n",
        "    telefono_dfa.add_final_state(\"q9\")\n",
        "    for i in range(10):\n",
        "        telefono_dfa.add_transition(\"q0\", str(i), \"q1\")\n",
        "        telefono_dfa.add_transition(\"q1\", str(i), \"q2\")\n",
        "        telefono_dfa.add_transition(\"q2\", str(i), \"q3\")\n",
        "        telefono_dfa.add_transition(\"q3\", str(i), \"q4\")\n",
        "        telefono_dfa.add_transition(\"q4\", str(i), \"q5\")\n",
        "        telefono_dfa.add_transition(\"q5\", str(i), \"q6\")\n",
        "        telefono_dfa.add_transition(\"q6\", str(i), \"q7\")\n",
        "        telefono_dfa.add_transition(\"q7\", str(i), \"q8\")\n",
        "    telefono_dfa.add_transition(\"q8\", \"-\", \"q9\")\n",
        "    return telefono_dfa\n",
        "\n",
        "def create_email_dfa():\n",
        "    email_dfa = DeterministicFiniteAutomaton()\n",
        "    email_dfa.add_start_state(\"q0\")\n",
        "    email_dfa.add_final_state(\"q4\")\n",
        "    email_dfa.add_transition(\"q0\", \"@\", \"q1\")\n",
        "    email_dfa.add_transition(\"q1\", \".\", \"q2\")\n",
        "    email_dfa.add_transition(\"q2\", \"com\", \"q3\")\n",
        "    email_dfa.add_transition(\"q3\", \"\", \"q4\")\n",
        "    return email_dfa\n",
        "\n",
        "def create_identificacion_dfa():\n",
        "    identificacion_dfa = DeterministicFiniteAutomaton()\n",
        "    identificacion_dfa.add_start_state(\"q0\")\n",
        "    identificacion_dfa.add_final_state(\"q7\")\n",
        "    for i in range(10):\n",
        "        identificacion_dfa.add_transition(\"q0\", str(i), \"q1\")\n",
        "        identificacion_dfa.add_transition(\"q1\", str(i), \"q2\")\n",
        "        identificacion_dfa.add_transition(\"q2\", str(i), \"q3\")\n",
        "        identificacion_dfa.add_transition(\"q3\", str(i), \"q4\")\n",
        "        identificacion_dfa.add_transition(\"q4\", str(i), \"q5\")\n",
        "        identificacion_dfa.add_transition(\"q5\", str(i), \"q6\")\n",
        "    identificacion_dfa.add_transition(\"q6\", str(i), \"q7\")\n",
        "    return identificacion_dfa\n",
        "\n"
      ]
    }
  ],
  "metadata": {
    "colab": {
      "provenance": []
    },
    "kernelspec": {
      "display_name": "Python 3",
      "name": "python3"
    },
    "language_info": {
      "name": "python"
    }
  },
  "nbformat": 4,
  "nbformat_minor": 0
}
